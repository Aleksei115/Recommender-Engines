{
 "cells": [
  {
   "cell_type": "code",
   "execution_count": 1,
   "metadata": {},
   "outputs": [
    {
     "name": "stderr",
     "output_type": "stream",
     "text": [
      "c:\\Python312\\Lib\\site-packages\\tqdm\\auto.py:21: TqdmWarning: IProgress not found. Please update jupyter and ipywidgets. See https://ipywidgets.readthedocs.io/en/stable/user_install.html\n",
      "  from .autonotebook import tqdm as notebook_tqdm\n"
     ]
    }
   ],
   "source": [
    "import pandas as pd\n",
    "import json\n",
    "import numpy as np\n",
    "import time \n",
    "from datasets import load_dataset\n",
    "from sklearn.feature_extraction.text import TfidfVectorizer\n",
    "from sklearn.metrics.pairwise import cosine_similarity\n"
   ]
  },
  {
   "cell_type": "markdown",
   "metadata": {},
   "source": [
    "## Creating text-based similarity"
   ]
  },
  {
   "cell_type": "markdown",
   "metadata": {},
   "source": [
    "#### Import and Transform Data Products Metadata"
   ]
  },
  {
   "cell_type": "code",
   "execution_count": null,
   "metadata": {},
   "outputs": [],
   "source": [
    "start_time = time.time()"
   ]
  },
  {
   "cell_type": "code",
   "execution_count": null,
   "metadata": {},
   "outputs": [],
   "source": [
    "dataset = load_dataset(\"McAuley-Lab/Amazon-Reviews-2023\",\"raw_meta_Cell_Phones_and_Accessories\", split=\"full\", trust_remote_code=True)\n",
    "print(dataset[0])"
   ]
  },
  {
   "cell_type": "markdown",
   "metadata": {},
   "source": [
    "Algunos features que podemos utilizar para la categoria de Cell phones and Accesories:\n",
    "\n",
    "details > Product Dimensions  > lenght , width ,height \n",
    "details > Item Weight  \n",
    "details > Color\n",
    "categories > \n",
    "Compatible Phone Models > \"Check if there are standar models\"\n",
    "Material > separeate by comma\n",
    "Screen Size > 5.7\n",
    "price\n",
    "\n",
    "The weight is on onces, the dimensions are in inches\n",
    "\n",
    "We will use id product to differentiate between them"
   ]
  },
  {
   "cell_type": "code",
   "execution_count": null,
   "metadata": {},
   "outputs": [
    {
     "data": {
      "text/plain": [
       "1288490"
      ]
     },
     "execution_count": 167,
     "metadata": {},
     "output_type": "execute_result"
    }
   ],
   "source": [
    "products = []\n",
    "# products_df = pd.DataFrame()\n",
    "\n",
    "for product in dataset:\n",
    "\n",
    "    product_details = json.loads(product['details'])\n",
    "\n",
    "    aux_product = {}\n",
    "    aux_product['id'] = product['parent_asin']\n",
    "\n",
    "    #Que tengan un titulo similar \n",
    "    aux_product['title'] = product['title']\n",
    "\n",
    "\n",
    "    if 'Item Weight' in product_details.keys():\n",
    "        #Que tengan un peso similar\n",
    "        aux_product['weight'] = product_details['Item Weight'].split(' ')[0] or -1\n",
    "\n",
    "    #Que tengan una categoria similar \n",
    "    aux_cat = ''\n",
    "    #Add any categories that the product has, limited by 3\n",
    "    for i,cat in enumerate(product['categories']):\n",
    "        aux_cat += cat + ','\n",
    "    aux_product[f\"categorie\"] = aux_cat\n",
    "    \n",
    "    aux_compatible = ''\n",
    "    if 'Compatible Phone Models' in product_details.keys():\n",
    "        for i,model in enumerate(product_details['Compatible Phone Models'].split(',')):\n",
    "            # We only get the first 5 compatible phones\n",
    "            aux_compatible += model + ','\n",
    "\n",
    "    aux_product[f\"compatible\"] = aux_compatible\n",
    "\n",
    "    aux_material = ''\n",
    "    if 'Material' in product_details.keys():\n",
    "        \n",
    "        for i,material in enumerate(product_details['Material'].split(',')):\n",
    "            aux_material += material + ','\n",
    "        \n",
    "    aux_product[f\"material\"] = aux_material\n",
    "\n",
    "    aux_product['price'] = product['price'] or -1\n",
    "    \n",
    "    # Que tengan descripcion similar\n",
    "    aux_product[\"description\"] = product['description'] or np.nan\n",
    "\n",
    "    aux_product[\"features\"] = product['features'] or np.nan\n",
    "\n",
    "    if len(product['images']['large']) > 0:\n",
    "        aux_product[\"img\"] = product['images']['large'][0] or np.nan\n",
    "    else:\n",
    "        aux_product[\"img\"] = ''\n",
    "        \n",
    "    aux_product['avg_rating'] = product['average_rating'] or np.nan\n",
    "\n",
    "    aux_product['url'] = 'https://amazon.com.mx/' + product['parent_asin']\n",
    "\n",
    "    products.append(aux_product)\n",
    "\n",
    "\n",
    "len(products)"
   ]
  },
  {
   "cell_type": "code",
   "execution_count": null,
   "metadata": {},
   "outputs": [],
   "source": [
    "products_df = pd.DataFrame(products)\n",
    "products_df.replace('', np.nan, inplace=True)\n"
   ]
  },
  {
   "cell_type": "code",
   "execution_count": 174,
   "metadata": {},
   "outputs": [],
   "source": [
    "# Use this line to create the products dataframe and reduced the time to obtain the data to work with\n",
    "products_df.to_csv('./products_cleaned.csv',index=False)"
   ]
  },
  {
   "cell_type": "code",
   "execution_count": null,
   "metadata": {},
   "outputs": [],
   "source": [
    "end_time = time.time()"
   ]
  },
  {
   "cell_type": "code",
   "execution_count": null,
   "metadata": {},
   "outputs": [],
   "source": [
    "total_time_transform_data = end_time - start_time"
   ]
  },
  {
   "cell_type": "markdown",
   "metadata": {},
   "source": [
    "#### With Pandas and Sklearn"
   ]
  },
  {
   "cell_type": "code",
   "execution_count": 3,
   "metadata": {},
   "outputs": [],
   "source": [
    "start_time = time.time()"
   ]
  },
  {
   "cell_type": "markdown",
   "metadata": {},
   "source": [
    "Let's make a content-based recommender by the compability of phones\n",
    "\n",
    "1.  First we're gonna create a dataframe based on our cleaned and tranform products"
   ]
  },
  {
   "cell_type": "code",
   "execution_count": 2,
   "metadata": {},
   "outputs": [
    {
     "data": {
      "text/html": [
       "<div>\n",
       "<style scoped>\n",
       "    .dataframe tbody tr th:only-of-type {\n",
       "        vertical-align: middle;\n",
       "    }\n",
       "\n",
       "    .dataframe tbody tr th {\n",
       "        vertical-align: top;\n",
       "    }\n",
       "\n",
       "    .dataframe thead th {\n",
       "        text-align: right;\n",
       "    }\n",
       "</style>\n",
       "<table border=\"1\" class=\"dataframe\">\n",
       "  <thead>\n",
       "    <tr style=\"text-align: right;\">\n",
       "      <th></th>\n",
       "      <th>id</th>\n",
       "      <th>title</th>\n",
       "      <th>weight</th>\n",
       "      <th>categorie</th>\n",
       "      <th>compatible</th>\n",
       "      <th>material</th>\n",
       "      <th>price</th>\n",
       "      <th>description</th>\n",
       "      <th>features</th>\n",
       "      <th>img</th>\n",
       "      <th>avg_rating</th>\n",
       "      <th>url</th>\n",
       "    </tr>\n",
       "  </thead>\n",
       "  <tbody>\n",
       "    <tr>\n",
       "      <th>0</th>\n",
       "      <td>B013SK1JTY</td>\n",
       "      <td>ARAREE Slim Diary Cell Phone Case for Samsung ...</td>\n",
       "      <td>2.68</td>\n",
       "      <td>Cell Phones &amp; Accessories,Cases, Holsters &amp; Sl...</td>\n",
       "      <td>Samsung Galaxy Note, Samsung Galaxy Note 5,</td>\n",
       "      <td>Leather, Polycarbonate,</td>\n",
       "      <td>NaN</td>\n",
       "      <td>[\"JUST LOOK, You can tell the difference. Make...</td>\n",
       "      <td>['Genuine Cow leather with 6 different colors'...</td>\n",
       "      <td>https://m.media-amazon.com/images/I/51Q9w96zIQ...</td>\n",
       "      <td>3.8</td>\n",
       "      <td>https://amazon.com.mx/B013SK1JTY</td>\n",
       "    </tr>\n",
       "    <tr>\n",
       "      <th>1</th>\n",
       "      <td>B07ZPSG8P5</td>\n",
       "      <td>Bastmei for OnePlus 7T Case Extremely Light Ul...</td>\n",
       "      <td>1.44</td>\n",
       "      <td>Cell Phones &amp; Accessories,Cases, Holsters &amp; Sl...</td>\n",
       "      <td>OnePlus 7T,</td>\n",
       "      <td>Polycarbonate,</td>\n",
       "      <td>11.98</td>\n",
       "      <td>NaN</td>\n",
       "      <td>['Ultra-thin &amp; Ultra-light: The ultra slim fit...</td>\n",
       "      <td>https://m.media-amazon.com/images/I/41Mo5IIOw6...</td>\n",
       "      <td>4.4</td>\n",
       "      <td>https://amazon.com.mx/B07ZPSG8P5</td>\n",
       "    </tr>\n",
       "    <tr>\n",
       "      <th>2</th>\n",
       "      <td>B00GKR3L12</td>\n",
       "      <td>Wireless Fones Branded New Iphone 5C/LITE Hot ...</td>\n",
       "      <td>NaN</td>\n",
       "      <td>Cell Phones &amp; Accessories,iPhone Accessories,</td>\n",
       "      <td>NaN</td>\n",
       "      <td>NaN</td>\n",
       "      <td>NaN</td>\n",
       "      <td>NaN</td>\n",
       "      <td>NaN</td>\n",
       "      <td>https://m.media-amazon.com/images/I/51qqm0cG4V...</td>\n",
       "      <td>4.0</td>\n",
       "      <td>https://amazon.com.mx/B00GKR3L12</td>\n",
       "    </tr>\n",
       "    <tr>\n",
       "      <th>3</th>\n",
       "      <td>B00PB8U8BW</td>\n",
       "      <td>iPhone 6 Plus + Case, DandyCase Perfect PATTER...</td>\n",
       "      <td>0.80</td>\n",
       "      <td>Cell Phones &amp; Accessories,iPhone Accessories,</td>\n",
       "      <td>iPhone 6 Plus,</td>\n",
       "      <td>TPU,</td>\n",
       "      <td>NaN</td>\n",
       "      <td>['Case does not need to be removed for chargin...</td>\n",
       "      <td>['Slim-Fit design for the iPhone 6 Plus (5.5\" ...</td>\n",
       "      <td>https://m.media-amazon.com/images/I/51DIzvm4V3...</td>\n",
       "      <td>4.0</td>\n",
       "      <td>https://amazon.com.mx/B00PB8U8BW</td>\n",
       "    </tr>\n",
       "    <tr>\n",
       "      <th>4</th>\n",
       "      <td>B07D3RHSRV</td>\n",
       "      <td>Case for Galaxy S6/S6 Edge, Thin Translucent V...</td>\n",
       "      <td>2.92</td>\n",
       "      <td>Cell Phones &amp; Accessories,Cases, Holsters &amp; Sl...</td>\n",
       "      <td>Samsung Galaxy S6,</td>\n",
       "      <td>Faux Leather, Polycarbonate,</td>\n",
       "      <td>NaN</td>\n",
       "      <td>NaN</td>\n",
       "      <td>NaN</td>\n",
       "      <td>https://m.media-amazon.com/images/I/11B94nE+l4...</td>\n",
       "      <td>4.0</td>\n",
       "      <td>https://amazon.com.mx/B07D3RHSRV</td>\n",
       "    </tr>\n",
       "  </tbody>\n",
       "</table>\n",
       "</div>"
      ],
      "text/plain": [
       "           id                                              title  weight  \\\n",
       "0  B013SK1JTY  ARAREE Slim Diary Cell Phone Case for Samsung ...    2.68   \n",
       "1  B07ZPSG8P5  Bastmei for OnePlus 7T Case Extremely Light Ul...    1.44   \n",
       "2  B00GKR3L12  Wireless Fones Branded New Iphone 5C/LITE Hot ...     NaN   \n",
       "3  B00PB8U8BW  iPhone 6 Plus + Case, DandyCase Perfect PATTER...    0.80   \n",
       "4  B07D3RHSRV  Case for Galaxy S6/S6 Edge, Thin Translucent V...    2.92   \n",
       "\n",
       "                                           categorie  \\\n",
       "0  Cell Phones & Accessories,Cases, Holsters & Sl...   \n",
       "1  Cell Phones & Accessories,Cases, Holsters & Sl...   \n",
       "2      Cell Phones & Accessories,iPhone Accessories,   \n",
       "3      Cell Phones & Accessories,iPhone Accessories,   \n",
       "4  Cell Phones & Accessories,Cases, Holsters & Sl...   \n",
       "\n",
       "                                    compatible                      material  \\\n",
       "0  Samsung Galaxy Note, Samsung Galaxy Note 5,       Leather, Polycarbonate,   \n",
       "1                                  OnePlus 7T,                Polycarbonate,   \n",
       "2                                          NaN                           NaN   \n",
       "3                               iPhone 6 Plus,                          TPU,   \n",
       "4                           Samsung Galaxy S6,  Faux Leather, Polycarbonate,   \n",
       "\n",
       "   price                                        description  \\\n",
       "0    NaN  [\"JUST LOOK, You can tell the difference. Make...   \n",
       "1  11.98                                                NaN   \n",
       "2    NaN                                                NaN   \n",
       "3    NaN  ['Case does not need to be removed for chargin...   \n",
       "4    NaN                                                NaN   \n",
       "\n",
       "                                            features  \\\n",
       "0  ['Genuine Cow leather with 6 different colors'...   \n",
       "1  ['Ultra-thin & Ultra-light: The ultra slim fit...   \n",
       "2                                                NaN   \n",
       "3  ['Slim-Fit design for the iPhone 6 Plus (5.5\" ...   \n",
       "4                                                NaN   \n",
       "\n",
       "                                                 img  avg_rating  \\\n",
       "0  https://m.media-amazon.com/images/I/51Q9w96zIQ...         3.8   \n",
       "1  https://m.media-amazon.com/images/I/41Mo5IIOw6...         4.4   \n",
       "2  https://m.media-amazon.com/images/I/51qqm0cG4V...         4.0   \n",
       "3  https://m.media-amazon.com/images/I/51DIzvm4V3...         4.0   \n",
       "4  https://m.media-amazon.com/images/I/11B94nE+l4...         4.0   \n",
       "\n",
       "                                url  \n",
       "0  https://amazon.com.mx/B013SK1JTY  \n",
       "1  https://amazon.com.mx/B07ZPSG8P5  \n",
       "2  https://amazon.com.mx/B00GKR3L12  \n",
       "3  https://amazon.com.mx/B00PB8U8BW  \n",
       "4  https://amazon.com.mx/B07D3RHSRV  "
      ]
     },
     "execution_count": 2,
     "metadata": {},
     "output_type": "execute_result"
    }
   ],
   "source": [
    "products_df = pd.read_csv('./products_cleaned.csv')\n",
    "products_df.head(5)"
   ]
  },
  {
   "cell_type": "markdown",
   "metadata": {},
   "source": [
    "Once we got our products in a DataFrame, we will remove the rows which don't have data in the column `compatible`"
   ]
  },
  {
   "cell_type": "code",
   "execution_count": 3,
   "metadata": {},
   "outputs": [
    {
     "data": {
      "text/html": [
       "<div>\n",
       "<style scoped>\n",
       "    .dataframe tbody tr th:only-of-type {\n",
       "        vertical-align: middle;\n",
       "    }\n",
       "\n",
       "    .dataframe tbody tr th {\n",
       "        vertical-align: top;\n",
       "    }\n",
       "\n",
       "    .dataframe thead th {\n",
       "        text-align: right;\n",
       "    }\n",
       "</style>\n",
       "<table border=\"1\" class=\"dataframe\">\n",
       "  <thead>\n",
       "    <tr style=\"text-align: right;\">\n",
       "      <th></th>\n",
       "      <th>id</th>\n",
       "      <th>title</th>\n",
       "      <th>weight</th>\n",
       "      <th>categorie</th>\n",
       "      <th>compatible</th>\n",
       "      <th>material</th>\n",
       "      <th>price</th>\n",
       "      <th>description</th>\n",
       "      <th>features</th>\n",
       "      <th>img</th>\n",
       "      <th>avg_rating</th>\n",
       "      <th>url</th>\n",
       "    </tr>\n",
       "  </thead>\n",
       "  <tbody>\n",
       "    <tr>\n",
       "      <th>0</th>\n",
       "      <td>B013SK1JTY</td>\n",
       "      <td>ARAREE Slim Diary Cell Phone Case for Samsung ...</td>\n",
       "      <td>2.68</td>\n",
       "      <td>Cell Phones &amp; Accessories,Cases, Holsters &amp; Sl...</td>\n",
       "      <td>Samsung Galaxy Note, Samsung Galaxy Note 5,</td>\n",
       "      <td>Leather, Polycarbonate,</td>\n",
       "      <td>NaN</td>\n",
       "      <td>[\"JUST LOOK, You can tell the difference. Make...</td>\n",
       "      <td>['Genuine Cow leather with 6 different colors'...</td>\n",
       "      <td>https://m.media-amazon.com/images/I/51Q9w96zIQ...</td>\n",
       "      <td>3.8</td>\n",
       "      <td>https://amazon.com.mx/B013SK1JTY</td>\n",
       "    </tr>\n",
       "    <tr>\n",
       "      <th>1</th>\n",
       "      <td>B07ZPSG8P5</td>\n",
       "      <td>Bastmei for OnePlus 7T Case Extremely Light Ul...</td>\n",
       "      <td>1.44</td>\n",
       "      <td>Cell Phones &amp; Accessories,Cases, Holsters &amp; Sl...</td>\n",
       "      <td>OnePlus 7T,</td>\n",
       "      <td>Polycarbonate,</td>\n",
       "      <td>11.98</td>\n",
       "      <td>NaN</td>\n",
       "      <td>['Ultra-thin &amp; Ultra-light: The ultra slim fit...</td>\n",
       "      <td>https://m.media-amazon.com/images/I/41Mo5IIOw6...</td>\n",
       "      <td>4.4</td>\n",
       "      <td>https://amazon.com.mx/B07ZPSG8P5</td>\n",
       "    </tr>\n",
       "    <tr>\n",
       "      <th>3</th>\n",
       "      <td>B00PB8U8BW</td>\n",
       "      <td>iPhone 6 Plus + Case, DandyCase Perfect PATTER...</td>\n",
       "      <td>0.80</td>\n",
       "      <td>Cell Phones &amp; Accessories,iPhone Accessories,</td>\n",
       "      <td>iPhone 6 Plus,</td>\n",
       "      <td>TPU,</td>\n",
       "      <td>NaN</td>\n",
       "      <td>['Case does not need to be removed for chargin...</td>\n",
       "      <td>['Slim-Fit design for the iPhone 6 Plus (5.5\" ...</td>\n",
       "      <td>https://m.media-amazon.com/images/I/51DIzvm4V3...</td>\n",
       "      <td>4.0</td>\n",
       "      <td>https://amazon.com.mx/B00PB8U8BW</td>\n",
       "    </tr>\n",
       "    <tr>\n",
       "      <th>4</th>\n",
       "      <td>B07D3RHSRV</td>\n",
       "      <td>Case for Galaxy S6/S6 Edge, Thin Translucent V...</td>\n",
       "      <td>2.92</td>\n",
       "      <td>Cell Phones &amp; Accessories,Cases, Holsters &amp; Sl...</td>\n",
       "      <td>Samsung Galaxy S6,</td>\n",
       "      <td>Faux Leather, Polycarbonate,</td>\n",
       "      <td>NaN</td>\n",
       "      <td>NaN</td>\n",
       "      <td>NaN</td>\n",
       "      <td>https://m.media-amazon.com/images/I/11B94nE+l4...</td>\n",
       "      <td>4.0</td>\n",
       "      <td>https://amazon.com.mx/B07D3RHSRV</td>\n",
       "    </tr>\n",
       "    <tr>\n",
       "      <th>6</th>\n",
       "      <td>B0BHY2CR5B</td>\n",
       "      <td>iMangoo Galaxy S22 Case, for Samsung Galaxy S2...</td>\n",
       "      <td>1.44</td>\n",
       "      <td>Cell Phones &amp; Accessories,Cases, Holsters &amp; Sl...</td>\n",
       "      <td>Samsung Galaxy S22,</td>\n",
       "      <td>Faux Leather,</td>\n",
       "      <td>11.99</td>\n",
       "      <td>NaN</td>\n",
       "      <td>['Compatibility: This Galaxy S22 case is only ...</td>\n",
       "      <td>https://m.media-amazon.com/images/I/51nZu7lnhH...</td>\n",
       "      <td>4.5</td>\n",
       "      <td>https://amazon.com.mx/B0BHY2CR5B</td>\n",
       "    </tr>\n",
       "  </tbody>\n",
       "</table>\n",
       "</div>"
      ],
      "text/plain": [
       "           id                                              title  weight  \\\n",
       "0  B013SK1JTY  ARAREE Slim Diary Cell Phone Case for Samsung ...    2.68   \n",
       "1  B07ZPSG8P5  Bastmei for OnePlus 7T Case Extremely Light Ul...    1.44   \n",
       "3  B00PB8U8BW  iPhone 6 Plus + Case, DandyCase Perfect PATTER...    0.80   \n",
       "4  B07D3RHSRV  Case for Galaxy S6/S6 Edge, Thin Translucent V...    2.92   \n",
       "6  B0BHY2CR5B  iMangoo Galaxy S22 Case, for Samsung Galaxy S2...    1.44   \n",
       "\n",
       "                                           categorie  \\\n",
       "0  Cell Phones & Accessories,Cases, Holsters & Sl...   \n",
       "1  Cell Phones & Accessories,Cases, Holsters & Sl...   \n",
       "3      Cell Phones & Accessories,iPhone Accessories,   \n",
       "4  Cell Phones & Accessories,Cases, Holsters & Sl...   \n",
       "6  Cell Phones & Accessories,Cases, Holsters & Sl...   \n",
       "\n",
       "                                    compatible                      material  \\\n",
       "0  Samsung Galaxy Note, Samsung Galaxy Note 5,       Leather, Polycarbonate,   \n",
       "1                                  OnePlus 7T,                Polycarbonate,   \n",
       "3                               iPhone 6 Plus,                          TPU,   \n",
       "4                           Samsung Galaxy S6,  Faux Leather, Polycarbonate,   \n",
       "6                          Samsung Galaxy S22,                 Faux Leather,   \n",
       "\n",
       "   price                                        description  \\\n",
       "0    NaN  [\"JUST LOOK, You can tell the difference. Make...   \n",
       "1  11.98                                                NaN   \n",
       "3    NaN  ['Case does not need to be removed for chargin...   \n",
       "4    NaN                                                NaN   \n",
       "6  11.99                                                NaN   \n",
       "\n",
       "                                            features  \\\n",
       "0  ['Genuine Cow leather with 6 different colors'...   \n",
       "1  ['Ultra-thin & Ultra-light: The ultra slim fit...   \n",
       "3  ['Slim-Fit design for the iPhone 6 Plus (5.5\" ...   \n",
       "4                                                NaN   \n",
       "6  ['Compatibility: This Galaxy S22 case is only ...   \n",
       "\n",
       "                                                 img  avg_rating  \\\n",
       "0  https://m.media-amazon.com/images/I/51Q9w96zIQ...         3.8   \n",
       "1  https://m.media-amazon.com/images/I/41Mo5IIOw6...         4.4   \n",
       "3  https://m.media-amazon.com/images/I/51DIzvm4V3...         4.0   \n",
       "4  https://m.media-amazon.com/images/I/11B94nE+l4...         4.0   \n",
       "6  https://m.media-amazon.com/images/I/51nZu7lnhH...         4.5   \n",
       "\n",
       "                                url  \n",
       "0  https://amazon.com.mx/B013SK1JTY  \n",
       "1  https://amazon.com.mx/B07ZPSG8P5  \n",
       "3  https://amazon.com.mx/B00PB8U8BW  \n",
       "4  https://amazon.com.mx/B07D3RHSRV  \n",
       "6  https://amazon.com.mx/B0BHY2CR5B  "
      ]
     },
     "execution_count": 3,
     "metadata": {},
     "output_type": "execute_result"
    }
   ],
   "source": [
    "products_clean_compatible_df = products_df.copy()\n",
    "products_clean_material_df = products_df.copy()\n",
    "\n",
    "products_clean_compatible_df.dropna(subset=['compatible'], inplace=True)\n",
    "products_clean_material_df.dropna(subset=['material'], inplace=True)\n",
    "products_clean_compatible_df.head()"
   ]
  },
  {
   "cell_type": "markdown",
   "metadata": {},
   "source": [
    "Now we're gonna calculate the similarity of `compatible` column, for that we're going to create a TF-IDF(\"Term Frequency Inverse Document Frequency\") vectorizer `TfidfVectorizer()` \n",
    "\n",
    "TF-IDF divides the number of times a word occurs in a document by a measure of what proportion of all the documents a word occurs in. "
   ]
  },
  {
   "attachments": {
    "image.png": {
     "image/png": "[encoded data removed]"
    }
   },
   "cell_type": "markdown",
   "metadata": {},
   "source": [
    "![image.png](attachment:image.png)"
   ]
  },
  {
   "cell_type": "markdown",
   "metadata": {},
   "source": [
    "First, we set the min_df argument to two. This limits our features to only those that have occurred in at least two documents. Useful as terms occurring once are not valuable for finding similarities.\n",
    "\n",
    "We should also remove words that are too common using max_df. By setting this to point seven, words that occur in more than 70% of the descriptions will be excluded."
   ]
  },
  {
   "cell_type": "markdown",
   "metadata": {},
   "source": [
    "`vectorized_descriptions` is a NxM dimension array, where N is the number of items and M the number of features\n",
    "\n",
    "`tfid.get_feature_names_out()` shows the features that our vectorizer gets"
   ]
  },
  {
   "cell_type": "code",
   "execution_count": 5,
   "metadata": {},
   "outputs": [
    {
     "data": {
      "text/html": [
       "<div>\n",
       "<style scoped>\n",
       "    .dataframe tbody tr th:only-of-type {\n",
       "        vertical-align: middle;\n",
       "    }\n",
       "\n",
       "    .dataframe tbody tr th {\n",
       "        vertical-align: top;\n",
       "    }\n",
       "\n",
       "    .dataframe thead th {\n",
       "        text-align: right;\n",
       "    }\n",
       "</style>\n",
       "<table border=\"1\" class=\"dataframe\">\n",
       "  <thead>\n",
       "    <tr style=\"text-align: right;\">\n",
       "      <th></th>\n",
       "      <th>05e</th>\n",
       "      <th>10</th>\n",
       "      <th>1020</th>\n",
       "      <th>10e</th>\n",
       "      <th>10ft</th>\n",
       "      <th>10l</th>\n",
       "      <th>10pro</th>\n",
       "      <th>10r</th>\n",
       "      <th>10s</th>\n",
       "      <th>10t</th>\n",
       "      <th>...</th>\n",
       "      <th>zero</th>\n",
       "      <th>zfive</th>\n",
       "      <th>zmax</th>\n",
       "      <th>zone</th>\n",
       "      <th>zoom</th>\n",
       "      <th>zte</th>\n",
       "      <th>zuk</th>\n",
       "      <th>𝐌𝐚𝐱</th>\n",
       "      <th>𝐏𝐫𝐨</th>\n",
       "      <th>𝐢𝐏𝐡𝐨𝐧𝐞</th>\n",
       "    </tr>\n",
       "    <tr>\n",
       "      <th>id</th>\n",
       "      <th></th>\n",
       "      <th></th>\n",
       "      <th></th>\n",
       "      <th></th>\n",
       "      <th></th>\n",
       "      <th></th>\n",
       "      <th></th>\n",
       "      <th></th>\n",
       "      <th></th>\n",
       "      <th></th>\n",
       "      <th></th>\n",
       "      <th></th>\n",
       "      <th></th>\n",
       "      <th></th>\n",
       "      <th></th>\n",
       "      <th></th>\n",
       "      <th></th>\n",
       "      <th></th>\n",
       "      <th></th>\n",
       "      <th></th>\n",
       "      <th></th>\n",
       "    </tr>\n",
       "  </thead>\n",
       "  <tbody>\n",
       "    <tr>\n",
       "      <th>B013SK1JTY</th>\n",
       "      <td>0.0</td>\n",
       "      <td>0.0</td>\n",
       "      <td>0.0</td>\n",
       "      <td>0.0</td>\n",
       "      <td>0.0</td>\n",
       "      <td>0.0</td>\n",
       "      <td>0.0</td>\n",
       "      <td>0.0</td>\n",
       "      <td>0.0</td>\n",
       "      <td>0.0</td>\n",
       "      <td>...</td>\n",
       "      <td>0.0</td>\n",
       "      <td>0.0</td>\n",
       "      <td>0.0</td>\n",
       "      <td>0.0</td>\n",
       "      <td>0.0</td>\n",
       "      <td>0.0</td>\n",
       "      <td>0.0</td>\n",
       "      <td>0.0</td>\n",
       "      <td>0.0</td>\n",
       "      <td>0.0</td>\n",
       "    </tr>\n",
       "    <tr>\n",
       "      <th>B07ZPSG8P5</th>\n",
       "      <td>0.0</td>\n",
       "      <td>0.0</td>\n",
       "      <td>0.0</td>\n",
       "      <td>0.0</td>\n",
       "      <td>0.0</td>\n",
       "      <td>0.0</td>\n",
       "      <td>0.0</td>\n",
       "      <td>0.0</td>\n",
       "      <td>0.0</td>\n",
       "      <td>0.0</td>\n",
       "      <td>...</td>\n",
       "      <td>0.0</td>\n",
       "      <td>0.0</td>\n",
       "      <td>0.0</td>\n",
       "      <td>0.0</td>\n",
       "      <td>0.0</td>\n",
       "      <td>0.0</td>\n",
       "      <td>0.0</td>\n",
       "      <td>0.0</td>\n",
       "      <td>0.0</td>\n",
       "      <td>0.0</td>\n",
       "    </tr>\n",
       "    <tr>\n",
       "      <th>B00PB8U8BW</th>\n",
       "      <td>0.0</td>\n",
       "      <td>0.0</td>\n",
       "      <td>0.0</td>\n",
       "      <td>0.0</td>\n",
       "      <td>0.0</td>\n",
       "      <td>0.0</td>\n",
       "      <td>0.0</td>\n",
       "      <td>0.0</td>\n",
       "      <td>0.0</td>\n",
       "      <td>0.0</td>\n",
       "      <td>...</td>\n",
       "      <td>0.0</td>\n",
       "      <td>0.0</td>\n",
       "      <td>0.0</td>\n",
       "      <td>0.0</td>\n",
       "      <td>0.0</td>\n",
       "      <td>0.0</td>\n",
       "      <td>0.0</td>\n",
       "      <td>0.0</td>\n",
       "      <td>0.0</td>\n",
       "      <td>0.0</td>\n",
       "    </tr>\n",
       "    <tr>\n",
       "      <th>B07D3RHSRV</th>\n",
       "      <td>0.0</td>\n",
       "      <td>0.0</td>\n",
       "      <td>0.0</td>\n",
       "      <td>0.0</td>\n",
       "      <td>0.0</td>\n",
       "      <td>0.0</td>\n",
       "      <td>0.0</td>\n",
       "      <td>0.0</td>\n",
       "      <td>0.0</td>\n",
       "      <td>0.0</td>\n",
       "      <td>...</td>\n",
       "      <td>0.0</td>\n",
       "      <td>0.0</td>\n",
       "      <td>0.0</td>\n",
       "      <td>0.0</td>\n",
       "      <td>0.0</td>\n",
       "      <td>0.0</td>\n",
       "      <td>0.0</td>\n",
       "      <td>0.0</td>\n",
       "      <td>0.0</td>\n",
       "      <td>0.0</td>\n",
       "    </tr>\n",
       "    <tr>\n",
       "      <th>B0BHY2CR5B</th>\n",
       "      <td>0.0</td>\n",
       "      <td>0.0</td>\n",
       "      <td>0.0</td>\n",
       "      <td>0.0</td>\n",
       "      <td>0.0</td>\n",
       "      <td>0.0</td>\n",
       "      <td>0.0</td>\n",
       "      <td>0.0</td>\n",
       "      <td>0.0</td>\n",
       "      <td>0.0</td>\n",
       "      <td>...</td>\n",
       "      <td>0.0</td>\n",
       "      <td>0.0</td>\n",
       "      <td>0.0</td>\n",
       "      <td>0.0</td>\n",
       "      <td>0.0</td>\n",
       "      <td>0.0</td>\n",
       "      <td>0.0</td>\n",
       "      <td>0.0</td>\n",
       "      <td>0.0</td>\n",
       "      <td>0.0</td>\n",
       "    </tr>\n",
       "  </tbody>\n",
       "</table>\n",
       "<p>5 rows × 1476 columns</p>\n",
       "</div>"
      ],
      "text/plain": [
       "            05e   10  1020  10e  10ft  10l  10pro  10r  10s  10t  ...  zero  \\\n",
       "id                                                                ...         \n",
       "B013SK1JTY  0.0  0.0   0.0  0.0   0.0  0.0    0.0  0.0  0.0  0.0  ...   0.0   \n",
       "B07ZPSG8P5  0.0  0.0   0.0  0.0   0.0  0.0    0.0  0.0  0.0  0.0  ...   0.0   \n",
       "B00PB8U8BW  0.0  0.0   0.0  0.0   0.0  0.0    0.0  0.0  0.0  0.0  ...   0.0   \n",
       "B07D3RHSRV  0.0  0.0   0.0  0.0   0.0  0.0    0.0  0.0  0.0  0.0  ...   0.0   \n",
       "B0BHY2CR5B  0.0  0.0   0.0  0.0   0.0  0.0    0.0  0.0  0.0  0.0  ...   0.0   \n",
       "\n",
       "            zfive  zmax  zone  zoom  zte  zuk  𝐌𝐚𝐱  𝐏𝐫𝐨  𝐢𝐏𝐡𝐨𝐧𝐞  \n",
       "id                                                               \n",
       "B013SK1JTY    0.0   0.0   0.0   0.0  0.0  0.0  0.0  0.0     0.0  \n",
       "B07ZPSG8P5    0.0   0.0   0.0   0.0  0.0  0.0  0.0  0.0     0.0  \n",
       "B00PB8U8BW    0.0   0.0   0.0   0.0  0.0  0.0  0.0  0.0     0.0  \n",
       "B07D3RHSRV    0.0   0.0   0.0   0.0  0.0  0.0  0.0  0.0     0.0  \n",
       "B0BHY2CR5B    0.0   0.0   0.0   0.0  0.0  0.0  0.0  0.0     0.0  \n",
       "\n",
       "[5 rows x 1476 columns]"
      ]
     },
     "execution_count": 5,
     "metadata": {},
     "output_type": "execute_result"
    }
   ],
   "source": [
    "\n",
    "tfid = TfidfVectorizer(min_df=10,max_df=0.7)\n",
    "vectorized_descriptions = tfid.fit_transform(products_clean_compatible_df['compatible'])\n",
    "features = tfid.get_feature_names_out()\n",
    "data_vectorized = vectorized_descriptions.toarray()\n",
    "\n",
    "#Make a dataframe with features and data\n",
    "\n",
    "tfidf_df = pd.DataFrame(data_vectorized,columns=features,index=products_clean_compatible_df['id'])\n",
    "\n",
    "tfidf_df.head()"
   ]
  },
  {
   "cell_type": "markdown",
   "metadata": {},
   "source": [
    "We will use cosine similarity to find the similarity between two items or all items"
   ]
  },
  {
   "cell_type": "code",
   "execution_count": 6,
   "metadata": {},
   "outputs": [],
   "source": [
    "cosine_similarity_array = cosine_similarity(tfidf_df)\n",
    "\n",
    "\n",
    "cosine_similarity_df = pd.DataFrame(cosine_similarity_array,columns=products_clean_compatible_df['id'],index=products_clean_compatible_df['id'])\n",
    "display(cosine_similarity_df.head())"
   ]
  },
  {
   "cell_type": "markdown",
   "metadata": {},
   "source": [
    "Now we have our dataframe we can make queries about a product, for example: \n",
    "\n",
    "> Supose that we are searching for a samsung galaxy S6 case. Now our recommender engine will show the top 5 products that have the most similarity. our current product is `B07D3RHSRV`"
   ]
  },
  {
   "cell_type": "code",
   "execution_count": null,
   "metadata": {},
   "outputs": [],
   "source": [
    "recomendations = cosine_similarity_df.loc['B07D3RHSRV'].sort_values(ascending=False)\n",
    "top5_recomendations = recomendations.iloc[1:6]  # Exclude the first one (self-similarity)\n",
    "\n",
    "#join our recomendations with our original data\n",
    "recomendation_products = products_df[['title','description','img','avg_rating','url']][products_df['id'].isin(top5_recomendations.index)]\n",
    "\n",
    "#Create the return array use, to json when we are exporting it\n",
    "return_array = recomendation_products.to_dict(orient='records')\n"
   ]
  },
  {
   "attachments": {
    "image.png": {
     "image/png": "[encoded data removed]"
    }
   },
   "cell_type": "markdown",
   "metadata": {},
   "source": [
    "At this point, we can return different objects, suppose that we are working on a e-commerce, we will return data, that can be painted in a interface like this:\n",
    "\n",
    "Our goal is return a json object \n",
    "\n",
    "\n",
    "![image.png](attachment:image.png)"
   ]
  },
  {
   "cell_type": "code",
   "execution_count": null,
   "metadata": {},
   "outputs": [],
   "source": [
    "end_time = time.time()"
   ]
  },
  {
   "cell_type": "code",
   "execution_count": null,
   "metadata": {},
   "outputs": [],
   "source": [
    "total_time_content_based_pandas = end_time - start_time"
   ]
  },
  {
   "cell_type": "markdown",
   "metadata": {},
   "source": [
    "#### With PySpark"
   ]
  },
  {
   "cell_type": "markdown",
   "metadata": {},
   "source": [
    "## Creating user profiles"
   ]
  },
  {
   "cell_type": "markdown",
   "metadata": {},
   "source": [
    "We will create user profiles based on what items did they bought based on verification reviews"
   ]
  },
  {
   "cell_type": "markdown",
   "metadata": {},
   "source": [
    "#### Import and Transform Data"
   ]
  },
  {
   "cell_type": "code",
   "execution_count": null,
   "metadata": {},
   "outputs": [],
   "source": [
    "start_time = time.time()"
   ]
  },
  {
   "cell_type": "code",
   "execution_count": 22,
   "metadata": {},
   "outputs": [
    {
     "name": "stdout",
     "output_type": "stream",
     "text": [
      "{'rating': 4.0, 'title': 'No white background! It’s clear!', 'text': 'I bought this bc I thought it had the nice white background. Turns out it’s clear & since my phone is blue it doesn’t look anything like this.  If I had known that I would have purchased something else. It works ok.', 'images': [{'attachment_type': 'IMAGE', 'large_image_url': 'https://images-na.ssl-images-amazon.com/images/I/B1PrCo7ZjXS._SL1600_.jpg', 'medium_image_url': 'https://images-na.ssl-images-amazon.com/images/I/B1PrCo7ZjXS._SL800_.jpg', 'small_image_url': 'https://images-na.ssl-images-amazon.com/images/I/B1PrCo7ZjXS._SL256_.jpg'}], 'asin': 'B08L6L3X1S', 'parent_asin': 'B08L6L3X1S', 'user_id': 'AFKZENTNBQ7A7V7UXW5JJI6UGRYQ', 'timestamp': 1612044451196, 'helpful_vote': 0, 'verified_purchase': True}\n"
     ]
    }
   ],
   "source": [
    "dataset = load_dataset(\"McAuley-Lab/Amazon-Reviews-2023\",\"raw_review_Cell_Phones_and_Accessories\", split=\"full\", trust_remote_code=True)\n",
    "print(dataset[0])"
   ]
  },
  {
   "cell_type": "markdown",
   "metadata": {},
   "source": [
    "Algunos features que podemos utilizar para la categoria de Cell phones and Accesories:\n",
    "\n",
    "details > Product Dimensions  > lenght , width ,height \n",
    "details > Item Weight  \n",
    "details > Color\n",
    "categories > \n",
    "Compatible Phone Models > \"Check if there are standar models\"\n",
    "Material > separeate by comma\n",
    "Screen Size > 5.7\n",
    "price\n",
    "\n",
    "The weight is on onces, the dimensions are in inches\n",
    "\n",
    "We will use id product to differentiate between them"
   ]
  },
  {
   "cell_type": "markdown",
   "metadata": {},
   "source": [
    "This dataset is around 9"
   ]
  },
  {
   "cell_type": "code",
   "execution_count": 26,
   "metadata": {},
   "outputs": [
    {
     "data": {
      "text/plain": [
       "1211278"
      ]
     },
     "execution_count": 26,
     "metadata": {},
     "output_type": "execute_result"
    }
   ],
   "source": [
    "reviews = []\n",
    "# products_df = pd.DataFrame()\n",
    "i = 0\n",
    "for review in dataset:\n",
    "    if i > 1288490:\n",
    "        break\n",
    "\n",
    "    if review['verified_purchase'] is True:\n",
    "        aux_review = {}\n",
    "        aux_review['rating'] = review['rating']\n",
    "\n",
    "        #Que tengan un titulo similar \n",
    "        aux_review['title'] = review['title']\n",
    "\n",
    "        #Analisis de sentimientos o reviews parecidas\n",
    "        aux_review['text'] = review['text']\n",
    "\n",
    "        #Producto asociado recomendar productos no comprados\n",
    "        aux_review['id_product'] = review['parent_asin']\n",
    "\n",
    "        #Producto asociado\n",
    "        aux_review['id_user'] = review['user_id']\n",
    "\n",
    "        #Compra verificada\n",
    "        aux_review['verified_purchase'] = review['verified_purchase']\n",
    "\n",
    "        aux_review['helpful_vote'] = review['helpful_vote']\n",
    "\n",
    "\n",
    "        aux_review['url'] = 'https://amazon.com.mx/' + review['parent_asin']\n",
    "\n",
    "        reviews.append(aux_review)\n",
    "\n",
    "    i += 1\n",
    "\n",
    "len(reviews)"
   ]
  },
  {
   "cell_type": "code",
   "execution_count": 27,
   "metadata": {},
   "outputs": [],
   "source": [
    "reviews_df = pd.DataFrame(reviews)\n",
    "reviews_df.replace('', np.nan, inplace=True)\n"
   ]
  },
  {
   "cell_type": "code",
   "execution_count": 28,
   "metadata": {},
   "outputs": [],
   "source": [
    "# Use this line to create the products dataframe and reduced the time to obtain the data to work with\n",
    "reviews_df.to_csv('./reviews_cleaned.csv',index=False)"
   ]
  },
  {
   "cell_type": "code",
   "execution_count": null,
   "metadata": {},
   "outputs": [],
   "source": [
    "end_time = time.time()"
   ]
  },
  {
   "cell_type": "code",
   "execution_count": null,
   "metadata": {},
   "outputs": [],
   "source": [
    "total_time_transform_data_reviews  = end_time - start_time"
   ]
  },
  {
   "cell_type": "markdown",
   "metadata": {},
   "source": [
    "#### With Pandas and Sklearn"
   ]
  },
  {
   "cell_type": "code",
   "execution_count": 3,
   "metadata": {},
   "outputs": [],
   "source": [
    "start_time = time.time()"
   ]
  },
  {
   "cell_type": "code",
   "execution_count": 29,
   "metadata": {},
   "outputs": [
    {
     "data": {
      "text/html": [
       "<div>\n",
       "<style scoped>\n",
       "    .dataframe tbody tr th:only-of-type {\n",
       "        vertical-align: middle;\n",
       "    }\n",
       "\n",
       "    .dataframe tbody tr th {\n",
       "        vertical-align: top;\n",
       "    }\n",
       "\n",
       "    .dataframe thead th {\n",
       "        text-align: right;\n",
       "    }\n",
       "</style>\n",
       "<table border=\"1\" class=\"dataframe\">\n",
       "  <thead>\n",
       "    <tr style=\"text-align: right;\">\n",
       "      <th></th>\n",
       "      <th>rating</th>\n",
       "      <th>title</th>\n",
       "      <th>text</th>\n",
       "      <th>id_product</th>\n",
       "      <th>id_user</th>\n",
       "      <th>verified_purchase</th>\n",
       "      <th>helpful_vote</th>\n",
       "      <th>url</th>\n",
       "    </tr>\n",
       "  </thead>\n",
       "  <tbody>\n",
       "    <tr>\n",
       "      <th>0</th>\n",
       "      <td>4.0</td>\n",
       "      <td>No white background! It’s clear!</td>\n",
       "      <td>I bought this bc I thought it had the nice whi...</td>\n",
       "      <td>B08L6L3X1S</td>\n",
       "      <td>AFKZENTNBQ7A7V7UXW5JJI6UGRYQ</td>\n",
       "      <td>True</td>\n",
       "      <td>0</td>\n",
       "      <td>https://amazon.com.mx/B08L6L3X1S</td>\n",
       "    </tr>\n",
       "    <tr>\n",
       "      <th>1</th>\n",
       "      <td>5.0</td>\n",
       "      <td>Awesome!  Great price!  Works well!</td>\n",
       "      <td>Perfect. How pissed am I that I recently paid ...</td>\n",
       "      <td>B079BPGF6C</td>\n",
       "      <td>AFKZENTNBQ7A7V7UXW5JJI6UGRYQ</td>\n",
       "      <td>True</td>\n",
       "      <td>2</td>\n",
       "      <td>https://amazon.com.mx/B079BPGF6C</td>\n",
       "    </tr>\n",
       "    <tr>\n",
       "      <th>2</th>\n",
       "      <td>5.0</td>\n",
       "      <td>Worked but took an hour to install</td>\n",
       "      <td>Overall very happy with the end result. If you...</td>\n",
       "      <td>B0BBGGC8F2</td>\n",
       "      <td>AGCI7FAH4GL5FI65HYLKWTMFZ2CQ</td>\n",
       "      <td>True</td>\n",
       "      <td>3</td>\n",
       "      <td>https://amazon.com.mx/B0BBGGC8F2</td>\n",
       "    </tr>\n",
       "    <tr>\n",
       "      <th>3</th>\n",
       "      <td>4.0</td>\n",
       "      <td>Decent</td>\n",
       "      <td>Lasted about 9 months then the lock button bro...</td>\n",
       "      <td>B07XRDHDNQ</td>\n",
       "      <td>AGCI7FAH4GL5FI65HYLKWTMFZ2CQ</td>\n",
       "      <td>True</td>\n",
       "      <td>0</td>\n",
       "      <td>https://amazon.com.mx/B07XRDHDNQ</td>\n",
       "    </tr>\n",
       "    <tr>\n",
       "      <th>4</th>\n",
       "      <td>5.0</td>\n",
       "      <td>LOVE IT!</td>\n",
       "      <td>LOVE THIS CASE! Works better than my expensive...</td>\n",
       "      <td>B00A8ZDL9Y</td>\n",
       "      <td>AGCI7FAH4GL5FI65HYLKWTMFZ2CQ</td>\n",
       "      <td>True</td>\n",
       "      <td>0</td>\n",
       "      <td>https://amazon.com.mx/B00A8ZDL9Y</td>\n",
       "    </tr>\n",
       "  </tbody>\n",
       "</table>\n",
       "</div>"
      ],
      "text/plain": [
       "   rating                                title  \\\n",
       "0     4.0     No white background! It’s clear!   \n",
       "1     5.0  Awesome!  Great price!  Works well!   \n",
       "2     5.0   Worked but took an hour to install   \n",
       "3     4.0                               Decent   \n",
       "4     5.0                             LOVE IT!   \n",
       "\n",
       "                                                text  id_product  \\\n",
       "0  I bought this bc I thought it had the nice whi...  B08L6L3X1S   \n",
       "1  Perfect. How pissed am I that I recently paid ...  B079BPGF6C   \n",
       "2  Overall very happy with the end result. If you...  B0BBGGC8F2   \n",
       "3  Lasted about 9 months then the lock button bro...  B07XRDHDNQ   \n",
       "4  LOVE THIS CASE! Works better than my expensive...  B00A8ZDL9Y   \n",
       "\n",
       "                        id_user  verified_purchase  helpful_vote  \\\n",
       "0  AFKZENTNBQ7A7V7UXW5JJI6UGRYQ               True             0   \n",
       "1  AFKZENTNBQ7A7V7UXW5JJI6UGRYQ               True             2   \n",
       "2  AGCI7FAH4GL5FI65HYLKWTMFZ2CQ               True             3   \n",
       "3  AGCI7FAH4GL5FI65HYLKWTMFZ2CQ               True             0   \n",
       "4  AGCI7FAH4GL5FI65HYLKWTMFZ2CQ               True             0   \n",
       "\n",
       "                                url  \n",
       "0  https://amazon.com.mx/B08L6L3X1S  \n",
       "1  https://amazon.com.mx/B079BPGF6C  \n",
       "2  https://amazon.com.mx/B0BBGGC8F2  \n",
       "3  https://amazon.com.mx/B07XRDHDNQ  \n",
       "4  https://amazon.com.mx/B00A8ZDL9Y  "
      ]
     },
     "execution_count": 29,
     "metadata": {},
     "output_type": "execute_result"
    }
   ],
   "source": [
    "reviews_df = pd.read_csv('./reviews_cleaned.csv')\n",
    "reviews_df.head(5)"
   ]
  },
  {
   "cell_type": "markdown",
   "metadata": {},
   "source": [
    "We need to extract for each user which the products bought"
   ]
  },
  {
   "cell_type": "code",
   "execution_count": 30,
   "metadata": {},
   "outputs": [],
   "source": [
    "# Extract products bought by each user\n",
    "products_bought_by_user = reviews_df.groupby('id_user')['id_product'].unique().reset_index()"
   ]
  },
  {
   "cell_type": "markdown",
   "metadata": {},
   "source": [
    "For example we want to recommend products for a user with more than 5 products bought"
   ]
  },
  {
   "cell_type": "code",
   "execution_count": null,
   "metadata": {},
   "outputs": [],
   "source": [
    "# Filter users who bought more than 5 products\n",
    "products_from_user = products_bought_by_user[products_bought_by_user['id_product'].apply(len) > 5]\n",
    "# Apply the funcion len() to know how many products bought each user \n",
    "products_from_user.loc[:,'id_product'] = products_from_user['id_product'].apply(len)\n",
    "# Order users by who bought more products\n",
    "products_from_user = products_from_user.sort_values(by='id_product', ascending=False)['id_product'].index[0]\n",
    "\n",
    "# Obtain the products of the user who bought more products\n",
    "products_from_user_to_recommend = products_bought_by_user['id_product'].loc[products_from_user]\n",
    "products_from_user_to_recommend"
   ]
  },
  {
   "cell_type": "markdown",
   "metadata": {},
   "source": [
    "Now we're going to create a user profile, which allows us to recommend products based on those that haven't been bought yet and have strong similarity.\n",
    "\n",
    "So we have to load our TF-IDF dataframe from our content based recommender engine"
   ]
  },
  {
   "cell_type": "code",
   "execution_count": 60,
   "metadata": {},
   "outputs": [
    {
     "data": {
      "text/html": [
       "<div>\n",
       "<style scoped>\n",
       "    .dataframe tbody tr th:only-of-type {\n",
       "        vertical-align: middle;\n",
       "    }\n",
       "\n",
       "    .dataframe tbody tr th {\n",
       "        vertical-align: top;\n",
       "    }\n",
       "\n",
       "    .dataframe thead th {\n",
       "        text-align: right;\n",
       "    }\n",
       "</style>\n",
       "<table border=\"1\" class=\"dataframe\">\n",
       "  <thead>\n",
       "    <tr style=\"text-align: right;\">\n",
       "      <th></th>\n",
       "      <th>similarity_score</th>\n",
       "    </tr>\n",
       "    <tr>\n",
       "      <th>id</th>\n",
       "      <th></th>\n",
       "    </tr>\n",
       "  </thead>\n",
       "  <tbody>\n",
       "    <tr>\n",
       "      <th>B09QHH7N57</th>\n",
       "      <td>0.918064</td>\n",
       "    </tr>\n",
       "    <tr>\n",
       "      <th>B0C3VQ1CN4</th>\n",
       "      <td>0.917429</td>\n",
       "    </tr>\n",
       "    <tr>\n",
       "      <th>B09BNC3VVT</th>\n",
       "      <td>0.917359</td>\n",
       "    </tr>\n",
       "    <tr>\n",
       "      <th>B08V4ZG17J</th>\n",
       "      <td>0.908112</td>\n",
       "    </tr>\n",
       "    <tr>\n",
       "      <th>B0C2GN8Y3Y</th>\n",
       "      <td>0.906189</td>\n",
       "    </tr>\n",
       "  </tbody>\n",
       "</table>\n",
       "</div>"
      ],
      "text/plain": [
       "            similarity_score\n",
       "id                          \n",
       "B09QHH7N57          0.918064\n",
       "B0C3VQ1CN4          0.917429\n",
       "B09BNC3VVT          0.917359\n",
       "B08V4ZG17J          0.908112\n",
       "B0C2GN8Y3Y          0.906189"
      ]
     },
     "execution_count": 60,
     "metadata": {},
     "output_type": "execute_result"
    }
   ],
   "source": [
    "products_bought = tfidf_df.reindex(products_from_user_to_recommend)\n",
    "\n",
    "#Remove products that are not in the tfidf dataframe\n",
    "products_bought.dropna(inplace=True)\n",
    "\n",
    "# Generate the user profile by finding the average scores of products they bought\n",
    "user_prof = products_bought.mean()\n",
    "\n",
    "# Find subset of tfidf_df that does not products in products_from_user_to_recommend\n",
    "tfidf_subset_df = tfidf_df.drop(tfidf_df.index.intersection(products_from_user_to_recommend))\n",
    "\n",
    "# Calculate the cosine_similarity and wrap it in a DataFrame\n",
    "similarity_array = cosine_similarity(user_prof.values.reshape(1, -1), tfidf_subset_df)\n",
    "similarity_df = pd.DataFrame(similarity_array.T, index=tfidf_subset_df.index, columns=[\"similarity_score\"])\n",
    "\n",
    "\n",
    "# Sort the values from high to low by the values in the similarity_score\n",
    "sorted_similarity_df = similarity_df.sort_values(by=\"similarity_score\", ascending=False)\n",
    "\n",
    "# Inspect the most similar to the user preferences\n",
    "sorted_similarity_df.head()"
   ]
  },
  {
   "cell_type": "markdown",
   "metadata": {},
   "source": [
    "Now we can recommend 10 products to a user based on the products they've bought."
   ]
  },
  {
   "cell_type": "code",
   "execution_count": 63,
   "metadata": {},
   "outputs": [
    {
     "data": {
      "text/plain": [
       "[{'title': 'Easycosy Personalized Picture Phone Cases for 14 13 12 11 Pro/Max/Mini XR X Xs Max Custom Multiple Photo iPhone Case for Friends Family Birthday Gifts Customized Full Protection TPU Cover',\n",
       "  'description': nan,\n",
       "  'img': 'https://m.media-amazon.com/images/I/51xrFK8JBrL._AC_.jpg',\n",
       "  'avg_rating': 4.4,\n",
       "  'url': 'https://amazon.com.mx/B0C3VQ1CN4'},\n",
       " {'title': 'Quezqa Wireless Charging Station - 3 in 1 Fast Wireless Charger – Qi Fast Charging Dock for AirPods Pro 3 2 Apple Watch Ultra 8 7 SE 6 5 4 iPhone 14 Pro Max 14 Plus 13 12 11 Pro Max with QC Adapter',\n",
       "  'description': nan,\n",
       "  'img': 'https://m.media-amazon.com/images/I/41Od0hQStXL._AC_.jpg',\n",
       "  'avg_rating': 4.0,\n",
       "  'url': 'https://amazon.com.mx/B08V4ZG17J'},\n",
       " {'title': 'AFLYDOG Charging Station for Apple Multiple Devices, Adjustable 3 in 1 Charging Stand Dock Holder Foldable Charger Stand Compatible with Apple Watch SE/8/7/6/5/4/3/2/1 iPhone AirPods',\n",
       "  'description': nan,\n",
       "  'img': 'https://m.media-amazon.com/images/I/41SPkwj9fkL._AC_.jpg',\n",
       "  'avg_rating': 4.1,\n",
       "  'url': 'https://amazon.com.mx/B09QHH7N57'},\n",
       " {'title': '3 in 1 Wireless Charger for iPhone 14/13/12/11 Pro/Pro Max/Xs Max/XS/XR/X/8 Plus,Wireless Charging Station for iWatch 8/7/SE/6/5/4/3/2, AirPods Pro/2/3 (Green)',\n",
       "  'description': nan,\n",
       "  'img': 'https://m.media-amazon.com/images/I/41-T1FjlXTL._AC_.jpg',\n",
       "  'avg_rating': 4.3,\n",
       "  'url': 'https://amazon.com.mx/B09BNC3VVT'},\n",
       " {'title': \"NITMTYOU 2pcs Large Waterproof Phone Pouch Floating, IPX8 Waterproof Phone Case for iPhone 14 Pro Max 13 12 11 8 Plus Galaxy S23 Up to 7.2'', Water Proof Protector Phone Dry Bag for Swimming Beach\",\n",
       "  'description': nan,\n",
       "  'img': 'https://m.media-amazon.com/images/I/51DTFUFTnrL._AC_.jpg',\n",
       "  'avg_rating': 4.5,\n",
       "  'url': 'https://amazon.com.mx/B0C2GN8Y3Y'}]"
      ]
     },
     "execution_count": 63,
     "metadata": {},
     "output_type": "execute_result"
    }
   ],
   "source": [
    "top5_recomendations = sorted_similarity_df.iloc[0:5] \n",
    "\n",
    "#join our recomendations with our original data\n",
    "recomendation_products_user_profile = products_df[['title','description','img','avg_rating','url']][products_df['id'].isin(top5_recomendations.index)]\n",
    "\n",
    "#Create the return array use, to json when we are exporting it\n",
    "return_array_user_profile = recomendation_products_user_profile.to_dict(orient='records')\n",
    "\n",
    "return_array_user_profile"
   ]
  }
 ],
 "metadata": {
  "kernelspec": {
   "display_name": "Python 3",
   "language": "python",
   "name": "python3"
  },
  "language_info": {
   "codemirror_mode": {
    "name": "ipython",
    "version": 3
   },
   "file_extension": ".py",
   "mimetype": "text/x-python",
   "name": "python",
   "nbconvert_exporter": "python",
   "pygments_lexer": "ipython3",
   "version": "3.12.1"
  }
 },
 "nbformat": 4,
 "nbformat_minor": 2
}
